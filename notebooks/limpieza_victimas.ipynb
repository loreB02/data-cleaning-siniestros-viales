{
 "cells": [
  {
   "cell_type": "markdown",
   "id": "c0e94706",
   "metadata": {},
   "source": [
    "Limpieza de datos del dataset de víctimas"
   ]
  },
  {
   "cell_type": "code",
   "execution_count": 35,
   "id": "245dc705",
   "metadata": {},
   "outputs": [],
   "source": [
    "import pandas as pd\n",
    "import numpy as np\n",
    "\n",
    "df = pd.read_csv(\"../datasets/raw/siniestros_viales_victimas.csv\", low_memory=False)"
   ]
  },
  {
   "cell_type": "markdown",
   "id": "9510136f",
   "metadata": {},
   "source": [
    "Exploro datos previo a su limpieza"
   ]
  },
  {
   "cell_type": "code",
   "execution_count": 36,
   "id": "5886011b",
   "metadata": {},
   "outputs": [
    {
     "name": "stdout",
     "output_type": "stream",
     "text": [
      "<class 'pandas.core.frame.DataFrame'>\n",
      "RangeIndex: 1048575 entries, 0 to 1048574\n",
      "Data columns (total 9 columns):\n",
      " #   Column                       Non-Null Count  Dtype  \n",
      "---  ------                       --------------  -----  \n",
      " 0   id_siniestro                 62076 non-null  object \n",
      " 1   fecha_siniestro              62076 non-null  object \n",
      " 2   anio_siniestro               62076 non-null  float64\n",
      " 3   modo_desplazamiento_victima  62076 non-null  object \n",
      " 4   sexo_victima                 62076 non-null  object \n",
      " 5   edad_victima                 62076 non-null  object \n",
      " 6   GRAVEdad_victima             62076 non-null  object \n",
      " 7   rol_victima                  62076 non-null  object \n",
      " 8   fecha_fallecimiento_victima  610 non-null    object \n",
      "dtypes: float64(1), object(8)\n",
      "memory usage: 72.0+ MB\n"
     ]
    }
   ],
   "source": [
    "df.info() #transformar tipo de dato de la fecha, año, edad"
   ]
  },
  {
   "cell_type": "markdown",
   "id": "6f41da5a",
   "metadata": {},
   "source": [
    "Elimino columnas irrelevantes"
   ]
  },
  {
   "cell_type": "code",
   "execution_count": 37,
   "id": "0bd01b51",
   "metadata": {},
   "outputs": [
    {
     "data": {
      "text/html": [
       "<div>\n",
       "<style scoped>\n",
       "    .dataframe tbody tr th:only-of-type {\n",
       "        vertical-align: middle;\n",
       "    }\n",
       "\n",
       "    .dataframe tbody tr th {\n",
       "        vertical-align: top;\n",
       "    }\n",
       "\n",
       "    .dataframe thead th {\n",
       "        text-align: right;\n",
       "    }\n",
       "</style>\n",
       "<table border=\"1\" class=\"dataframe\">\n",
       "  <thead>\n",
       "    <tr style=\"text-align: right;\">\n",
       "      <th></th>\n",
       "      <th>id_siniestro</th>\n",
       "      <th>fecha_siniestro</th>\n",
       "      <th>modo_desplazamiento_victima</th>\n",
       "      <th>sexo_victima</th>\n",
       "      <th>edad_victima</th>\n",
       "    </tr>\n",
       "  </thead>\n",
       "  <tbody>\n",
       "    <tr>\n",
       "      <th>0</th>\n",
       "      <td>LC-2022-0132915</td>\n",
       "      <td>2022-03-20</td>\n",
       "      <td>AUTO</td>\n",
       "      <td>M</td>\n",
       "      <td>0</td>\n",
       "    </tr>\n",
       "    <tr>\n",
       "      <th>1</th>\n",
       "      <td>LC-2022-0054811</td>\n",
       "      <td>2022-02-06</td>\n",
       "      <td>AUTO</td>\n",
       "      <td>F</td>\n",
       "      <td>3</td>\n",
       "    </tr>\n",
       "    <tr>\n",
       "      <th>2</th>\n",
       "      <td>LC-2022-0166976</td>\n",
       "      <td>2022-04-04</td>\n",
       "      <td>AUTO</td>\n",
       "      <td>M</td>\n",
       "      <td>4</td>\n",
       "    </tr>\n",
       "    <tr>\n",
       "      <th>3</th>\n",
       "      <td>LC-2023-0096195</td>\n",
       "      <td>2023-02-22</td>\n",
       "      <td>AUTO</td>\n",
       "      <td>M</td>\n",
       "      <td>5</td>\n",
       "    </tr>\n",
       "    <tr>\n",
       "      <th>4</th>\n",
       "      <td>LC-2023-0096195</td>\n",
       "      <td>2023-02-22</td>\n",
       "      <td>AUTO</td>\n",
       "      <td>M</td>\n",
       "      <td>7</td>\n",
       "    </tr>\n",
       "    <tr>\n",
       "      <th>...</th>\n",
       "      <td>...</td>\n",
       "      <td>...</td>\n",
       "      <td>...</td>\n",
       "      <td>...</td>\n",
       "      <td>...</td>\n",
       "    </tr>\n",
       "    <tr>\n",
       "      <th>1048570</th>\n",
       "      <td>NaN</td>\n",
       "      <td>NaN</td>\n",
       "      <td>NaN</td>\n",
       "      <td>NaN</td>\n",
       "      <td>NaN</td>\n",
       "    </tr>\n",
       "    <tr>\n",
       "      <th>1048571</th>\n",
       "      <td>NaN</td>\n",
       "      <td>NaN</td>\n",
       "      <td>NaN</td>\n",
       "      <td>NaN</td>\n",
       "      <td>NaN</td>\n",
       "    </tr>\n",
       "    <tr>\n",
       "      <th>1048572</th>\n",
       "      <td>NaN</td>\n",
       "      <td>NaN</td>\n",
       "      <td>NaN</td>\n",
       "      <td>NaN</td>\n",
       "      <td>NaN</td>\n",
       "    </tr>\n",
       "    <tr>\n",
       "      <th>1048573</th>\n",
       "      <td>NaN</td>\n",
       "      <td>NaN</td>\n",
       "      <td>NaN</td>\n",
       "      <td>NaN</td>\n",
       "      <td>NaN</td>\n",
       "    </tr>\n",
       "    <tr>\n",
       "      <th>1048574</th>\n",
       "      <td>NaN</td>\n",
       "      <td>NaN</td>\n",
       "      <td>NaN</td>\n",
       "      <td>NaN</td>\n",
       "      <td>NaN</td>\n",
       "    </tr>\n",
       "  </tbody>\n",
       "</table>\n",
       "<p>1048575 rows × 5 columns</p>\n",
       "</div>"
      ],
      "text/plain": [
       "            id_siniestro fecha_siniestro modo_desplazamiento_victima  \\\n",
       "0        LC-2022-0132915      2022-03-20                        AUTO   \n",
       "1        LC-2022-0054811      2022-02-06                        AUTO   \n",
       "2        LC-2022-0166976      2022-04-04                        AUTO   \n",
       "3        LC-2023-0096195      2023-02-22                        AUTO   \n",
       "4        LC-2023-0096195      2023-02-22                        AUTO   \n",
       "...                  ...             ...                         ...   \n",
       "1048570              NaN             NaN                         NaN   \n",
       "1048571              NaN             NaN                         NaN   \n",
       "1048572              NaN             NaN                         NaN   \n",
       "1048573              NaN             NaN                         NaN   \n",
       "1048574              NaN             NaN                         NaN   \n",
       "\n",
       "        sexo_victima edad_victima  \n",
       "0                  M            0  \n",
       "1                  F            3  \n",
       "2                  M            4  \n",
       "3                  M            5  \n",
       "4                  M            7  \n",
       "...              ...          ...  \n",
       "1048570          NaN          NaN  \n",
       "1048571          NaN          NaN  \n",
       "1048572          NaN          NaN  \n",
       "1048573          NaN          NaN  \n",
       "1048574          NaN          NaN  \n",
       "\n",
       "[1048575 rows x 5 columns]"
      ]
     },
     "execution_count": 37,
     "metadata": {},
     "output_type": "execute_result"
    }
   ],
   "source": [
    "df = df.drop(columns=[\"GRAVEdad_victima\", \"fecha_fallecimiento_victima\", \"anio_siniestro\", \"rol_victima\"])\n",
    "df"
   ]
  },
  {
   "cell_type": "markdown",
   "id": "3ce60896",
   "metadata": {},
   "source": [
    "Busco los NaN existentes por columna"
   ]
  },
  {
   "cell_type": "code",
   "execution_count": 38,
   "id": "cbb9790a",
   "metadata": {},
   "outputs": [
    {
     "data": {
      "text/plain": [
       "id_siniestro                   986499\n",
       "fecha_siniestro                986499\n",
       "modo_desplazamiento_victima    986499\n",
       "sexo_victima                   986499\n",
       "edad_victima                   986499\n",
       "dtype: int64"
      ]
     },
     "execution_count": 38,
     "metadata": {},
     "output_type": "execute_result"
    }
   ],
   "source": [
    "df.isna().sum()"
   ]
  },
  {
   "cell_type": "markdown",
   "id": "61e9d936",
   "metadata": {},
   "source": [
    "Elimino duplicados y NaN"
   ]
  },
  {
   "cell_type": "code",
   "execution_count": 39,
   "id": "03848846",
   "metadata": {},
   "outputs": [
    {
     "data": {
      "text/html": [
       "<div>\n",
       "<style scoped>\n",
       "    .dataframe tbody tr th:only-of-type {\n",
       "        vertical-align: middle;\n",
       "    }\n",
       "\n",
       "    .dataframe tbody tr th {\n",
       "        vertical-align: top;\n",
       "    }\n",
       "\n",
       "    .dataframe thead th {\n",
       "        text-align: right;\n",
       "    }\n",
       "</style>\n",
       "<table border=\"1\" class=\"dataframe\">\n",
       "  <thead>\n",
       "    <tr style=\"text-align: right;\">\n",
       "      <th></th>\n",
       "      <th>id_siniestro</th>\n",
       "      <th>fecha_siniestro</th>\n",
       "      <th>modo_desplazamiento_victima</th>\n",
       "      <th>sexo_victima</th>\n",
       "      <th>edad_victima</th>\n",
       "    </tr>\n",
       "  </thead>\n",
       "  <tbody>\n",
       "    <tr>\n",
       "      <th>0</th>\n",
       "      <td>LC-2022-0132915</td>\n",
       "      <td>2022-03-20</td>\n",
       "      <td>AUTO</td>\n",
       "      <td>M</td>\n",
       "      <td>0</td>\n",
       "    </tr>\n",
       "    <tr>\n",
       "      <th>1</th>\n",
       "      <td>LC-2022-0054811</td>\n",
       "      <td>2022-02-06</td>\n",
       "      <td>AUTO</td>\n",
       "      <td>F</td>\n",
       "      <td>3</td>\n",
       "    </tr>\n",
       "    <tr>\n",
       "      <th>2</th>\n",
       "      <td>LC-2022-0166976</td>\n",
       "      <td>2022-04-04</td>\n",
       "      <td>AUTO</td>\n",
       "      <td>M</td>\n",
       "      <td>4</td>\n",
       "    </tr>\n",
       "    <tr>\n",
       "      <th>3</th>\n",
       "      <td>LC-2023-0096195</td>\n",
       "      <td>2023-02-22</td>\n",
       "      <td>AUTO</td>\n",
       "      <td>M</td>\n",
       "      <td>5</td>\n",
       "    </tr>\n",
       "    <tr>\n",
       "      <th>4</th>\n",
       "      <td>LC-2023-0096195</td>\n",
       "      <td>2023-02-22</td>\n",
       "      <td>AUTO</td>\n",
       "      <td>M</td>\n",
       "      <td>7</td>\n",
       "    </tr>\n",
       "    <tr>\n",
       "      <th>...</th>\n",
       "      <td>...</td>\n",
       "      <td>...</td>\n",
       "      <td>...</td>\n",
       "      <td>...</td>\n",
       "      <td>...</td>\n",
       "    </tr>\n",
       "    <tr>\n",
       "      <th>62071</th>\n",
       "      <td>HC-2019-0373765</td>\n",
       "      <td>2019-06-14</td>\n",
       "      <td>UTILITARIO</td>\n",
       "      <td>M</td>\n",
       "      <td>49</td>\n",
       "    </tr>\n",
       "    <tr>\n",
       "      <th>62072</th>\n",
       "      <td>HC-2021-0242208</td>\n",
       "      <td>2021-05-31</td>\n",
       "      <td>UTILITARIO</td>\n",
       "      <td>M</td>\n",
       "      <td>20</td>\n",
       "    </tr>\n",
       "    <tr>\n",
       "      <th>62073</th>\n",
       "      <td>HC-2023-0559525</td>\n",
       "      <td>2023-09-27</td>\n",
       "      <td>UTILITARIO</td>\n",
       "      <td>M</td>\n",
       "      <td>53</td>\n",
       "    </tr>\n",
       "    <tr>\n",
       "      <th>62074</th>\n",
       "      <td>HC-2024-0120559</td>\n",
       "      <td>2024-03-03</td>\n",
       "      <td>UTILITARIO</td>\n",
       "      <td>F</td>\n",
       "      <td>44</td>\n",
       "    </tr>\n",
       "    <tr>\n",
       "      <th>62075</th>\n",
       "      <td>HC-2022-0590233</td>\n",
       "      <td>2022-11-04</td>\n",
       "      <td>UTILITARIO</td>\n",
       "      <td>M</td>\n",
       "      <td>24</td>\n",
       "    </tr>\n",
       "  </tbody>\n",
       "</table>\n",
       "<p>60900 rows × 5 columns</p>\n",
       "</div>"
      ],
      "text/plain": [
       "          id_siniestro fecha_siniestro modo_desplazamiento_victima  \\\n",
       "0      LC-2022-0132915      2022-03-20                        AUTO   \n",
       "1      LC-2022-0054811      2022-02-06                        AUTO   \n",
       "2      LC-2022-0166976      2022-04-04                        AUTO   \n",
       "3      LC-2023-0096195      2023-02-22                        AUTO   \n",
       "4      LC-2023-0096195      2023-02-22                        AUTO   \n",
       "...                ...             ...                         ...   \n",
       "62071  HC-2019-0373765      2019-06-14                  UTILITARIO   \n",
       "62072  HC-2021-0242208      2021-05-31                  UTILITARIO   \n",
       "62073  HC-2023-0559525      2023-09-27                  UTILITARIO   \n",
       "62074  HC-2024-0120559      2024-03-03                  UTILITARIO   \n",
       "62075  HC-2022-0590233      2022-11-04                  UTILITARIO   \n",
       "\n",
       "      sexo_victima edad_victima  \n",
       "0                M            0  \n",
       "1                F            3  \n",
       "2                M            4  \n",
       "3                M            5  \n",
       "4                M            7  \n",
       "...            ...          ...  \n",
       "62071            M           49  \n",
       "62072            M           20  \n",
       "62073            M           53  \n",
       "62074            F           44  \n",
       "62075            M           24  \n",
       "\n",
       "[60900 rows x 5 columns]"
      ]
     },
     "execution_count": 39,
     "metadata": {},
     "output_type": "execute_result"
    }
   ],
   "source": [
    "df = df.drop_duplicates()\n",
    "df = df.dropna()\n",
    "df"
   ]
  },
  {
   "cell_type": "markdown",
   "id": "08c122a1",
   "metadata": {},
   "source": [
    "Normalizo columnas"
   ]
  },
  {
   "cell_type": "code",
   "execution_count": 40,
   "id": "874826fb",
   "metadata": {},
   "outputs": [
    {
     "data": {
      "text/html": [
       "<div>\n",
       "<style scoped>\n",
       "    .dataframe tbody tr th:only-of-type {\n",
       "        vertical-align: middle;\n",
       "    }\n",
       "\n",
       "    .dataframe tbody tr th {\n",
       "        vertical-align: top;\n",
       "    }\n",
       "\n",
       "    .dataframe thead th {\n",
       "        text-align: right;\n",
       "    }\n",
       "</style>\n",
       "<table border=\"1\" class=\"dataframe\">\n",
       "  <thead>\n",
       "    <tr style=\"text-align: right;\">\n",
       "      <th></th>\n",
       "      <th>id_siniestro</th>\n",
       "      <th>fecha_siniestro</th>\n",
       "      <th>modo_desplazamiento_victima</th>\n",
       "      <th>sexo_victima</th>\n",
       "      <th>edad_victima</th>\n",
       "    </tr>\n",
       "  </thead>\n",
       "  <tbody>\n",
       "    <tr>\n",
       "      <th>0</th>\n",
       "      <td>lc-2022-0132915</td>\n",
       "      <td>2022-03-20</td>\n",
       "      <td>auto</td>\n",
       "      <td>m</td>\n",
       "      <td>0</td>\n",
       "    </tr>\n",
       "    <tr>\n",
       "      <th>1</th>\n",
       "      <td>lc-2022-0054811</td>\n",
       "      <td>2022-02-06</td>\n",
       "      <td>auto</td>\n",
       "      <td>f</td>\n",
       "      <td>3</td>\n",
       "    </tr>\n",
       "    <tr>\n",
       "      <th>2</th>\n",
       "      <td>lc-2022-0166976</td>\n",
       "      <td>2022-04-04</td>\n",
       "      <td>auto</td>\n",
       "      <td>m</td>\n",
       "      <td>4</td>\n",
       "    </tr>\n",
       "    <tr>\n",
       "      <th>3</th>\n",
       "      <td>lc-2023-0096195</td>\n",
       "      <td>2023-02-22</td>\n",
       "      <td>auto</td>\n",
       "      <td>m</td>\n",
       "      <td>5</td>\n",
       "    </tr>\n",
       "    <tr>\n",
       "      <th>4</th>\n",
       "      <td>lc-2023-0096195</td>\n",
       "      <td>2023-02-22</td>\n",
       "      <td>auto</td>\n",
       "      <td>m</td>\n",
       "      <td>7</td>\n",
       "    </tr>\n",
       "    <tr>\n",
       "      <th>...</th>\n",
       "      <td>...</td>\n",
       "      <td>...</td>\n",
       "      <td>...</td>\n",
       "      <td>...</td>\n",
       "      <td>...</td>\n",
       "    </tr>\n",
       "    <tr>\n",
       "      <th>62071</th>\n",
       "      <td>hc-2019-0373765</td>\n",
       "      <td>2019-06-14</td>\n",
       "      <td>utilitario</td>\n",
       "      <td>m</td>\n",
       "      <td>49</td>\n",
       "    </tr>\n",
       "    <tr>\n",
       "      <th>62072</th>\n",
       "      <td>hc-2021-0242208</td>\n",
       "      <td>2021-05-31</td>\n",
       "      <td>utilitario</td>\n",
       "      <td>m</td>\n",
       "      <td>20</td>\n",
       "    </tr>\n",
       "    <tr>\n",
       "      <th>62073</th>\n",
       "      <td>hc-2023-0559525</td>\n",
       "      <td>2023-09-27</td>\n",
       "      <td>utilitario</td>\n",
       "      <td>m</td>\n",
       "      <td>53</td>\n",
       "    </tr>\n",
       "    <tr>\n",
       "      <th>62074</th>\n",
       "      <td>hc-2024-0120559</td>\n",
       "      <td>2024-03-03</td>\n",
       "      <td>utilitario</td>\n",
       "      <td>f</td>\n",
       "      <td>44</td>\n",
       "    </tr>\n",
       "    <tr>\n",
       "      <th>62075</th>\n",
       "      <td>hc-2022-0590233</td>\n",
       "      <td>2022-11-04</td>\n",
       "      <td>utilitario</td>\n",
       "      <td>m</td>\n",
       "      <td>24</td>\n",
       "    </tr>\n",
       "  </tbody>\n",
       "</table>\n",
       "<p>60900 rows × 5 columns</p>\n",
       "</div>"
      ],
      "text/plain": [
       "          id_siniestro fecha_siniestro modo_desplazamiento_victima  \\\n",
       "0      lc-2022-0132915      2022-03-20                        auto   \n",
       "1      lc-2022-0054811      2022-02-06                        auto   \n",
       "2      lc-2022-0166976      2022-04-04                        auto   \n",
       "3      lc-2023-0096195      2023-02-22                        auto   \n",
       "4      lc-2023-0096195      2023-02-22                        auto   \n",
       "...                ...             ...                         ...   \n",
       "62071  hc-2019-0373765      2019-06-14                  utilitario   \n",
       "62072  hc-2021-0242208      2021-05-31                  utilitario   \n",
       "62073  hc-2023-0559525      2023-09-27                  utilitario   \n",
       "62074  hc-2024-0120559      2024-03-03                  utilitario   \n",
       "62075  hc-2022-0590233      2022-11-04                  utilitario   \n",
       "\n",
       "      sexo_victima edad_victima  \n",
       "0                m            0  \n",
       "1                f            3  \n",
       "2                m            4  \n",
       "3                m            5  \n",
       "4                m            7  \n",
       "...            ...          ...  \n",
       "62071            m           49  \n",
       "62072            m           20  \n",
       "62073            m           53  \n",
       "62074            f           44  \n",
       "62075            m           24  \n",
       "\n",
       "[60900 rows x 5 columns]"
      ]
     },
     "execution_count": 40,
     "metadata": {},
     "output_type": "execute_result"
    }
   ],
   "source": [
    "cols = [\"id_siniestro\", \"modo_desplazamiento_victima\", \"sexo_victima\"]\n",
    "for col in cols:\n",
    "    df[col] = df[col].str.strip().str.lower()\n",
    "df"
   ]
  },
  {
   "cell_type": "markdown",
   "id": "139eb924",
   "metadata": {},
   "source": [
    "Transformo el dtype de las columnas"
   ]
  },
  {
   "cell_type": "code",
   "execution_count": 41,
   "id": "4dad1ccd",
   "metadata": {},
   "outputs": [],
   "source": [
    "df[\"fecha_siniestro\"] = pd.to_datetime(df[\"fecha_siniestro\"], errors=\"coerce\")"
   ]
  },
  {
   "cell_type": "code",
   "execution_count": 42,
   "id": "f4e831e5",
   "metadata": {},
   "outputs": [],
   "source": [
    "#creo variables con respecto al año, mes y dia\n",
    "df[\"año_victima\"] = df[\"fecha_siniestro\"].dt.year\n",
    "df[\"dia_victima\"] = df[\"fecha_siniestro\"].dt.day_name()\n",
    "df[\"mes_victima\"] = df[\"fecha_siniestro\"].dt.month_name()"
   ]
  },
  {
   "cell_type": "code",
   "execution_count": 43,
   "id": "f1aac9ab",
   "metadata": {},
   "outputs": [],
   "source": [
    "#reemplazo \"sd\" (sin datos) por NaN para luego poder reemplazar NaN por la edad promedio\n",
    "\n",
    "df[\"edad_victima\"] = pd.to_numeric(df[\"edad_victima\"], errors=\"coerce\")\n",
    "\n",
    "edad_prom = df[\"edad_victima\"].mean()\n",
    "\n",
    "df[\"edad_victima\"] = df[\"edad_victima\"].fillna(edad_prom)\n"
   ]
  },
  {
   "cell_type": "markdown",
   "id": "d5639f95",
   "metadata": {},
   "source": [
    "Creo la variable rango_edad"
   ]
  },
  {
   "cell_type": "code",
   "execution_count": 44,
   "id": "7da98f7d",
   "metadata": {},
   "outputs": [],
   "source": [
    "def categorizar_edad(edad):\n",
    "    if edad <= 12:\n",
    "        return \"0-12\"\n",
    "    elif edad <= 18:\n",
    "        return \"13-18\"\n",
    "    elif edad <= 30:\n",
    "        return \"19-30\"\n",
    "    elif edad <= 45:\n",
    "        return \"31-45\"\n",
    "    elif edad <= 60:\n",
    "        return \"46-60\"\n",
    "    else:\n",
    "        return \"60+\"\n",
    "    \n",
    "df[\"rango_edad\"] = df[\"edad_victima\"].apply(categorizar_edad)"
   ]
  },
  {
   "cell_type": "markdown",
   "id": "900f217c",
   "metadata": {},
   "source": [
    "Reviso si existen valores atípicos"
   ]
  },
  {
   "cell_type": "code",
   "execution_count": 45,
   "id": "85e65016",
   "metadata": {},
   "outputs": [
    {
     "name": "stdout",
     "output_type": "stream",
     "text": [
      "0.0 100.0\n"
     ]
    }
   ],
   "source": [
    "print(df[\"edad_victima\"].min(), df[\"edad_victima\"].max()) #el rango es incorrecto"
   ]
  },
  {
   "cell_type": "code",
   "execution_count": 46,
   "id": "ce7b2ad7",
   "metadata": {},
   "outputs": [
    {
     "data": {
      "text/plain": [
       "dtype('int64')"
      ]
     },
     "execution_count": 46,
     "metadata": {},
     "output_type": "execute_result"
    }
   ],
   "source": [
    "#busco en las filas los valores iguales a 100 y 0 para reemplazarlos por NaN\n",
    "df.loc[(df[\"edad_victima\"] == 0) | (df[\"edad_victima\"] == 100), \"edad_victima\"] = np.nan\n",
    "\n",
    "#reemplazo NaN por edad promedio y formateo el tipo de dato a int nuevamente\n",
    "\n",
    "df[\"edad_victima\"] = df[\"edad_victima\"].fillna(edad_prom).astype(int)\n",
    "\n",
    "df[\"edad_victima\"].dtype"
   ]
  },
  {
   "cell_type": "code",
   "execution_count": 47,
   "id": "7469dd45",
   "metadata": {},
   "outputs": [
    {
     "data": {
      "text/plain": [
       "array(['auto', 'bicicleta', 'camion', 'monopatin', 'moto', 'movil',\n",
       "       'otro', 'peaton', 'sd', 'taxi', 'transporte publico', 'utilitario'],\n",
       "      dtype=object)"
      ]
     },
     "execution_count": 47,
     "metadata": {},
     "output_type": "execute_result"
    }
   ],
   "source": [
    "df[\"modo_desplazamiento_victima\"].unique() "
   ]
  },
  {
   "cell_type": "code",
   "execution_count": 48,
   "id": "ce4f02bb",
   "metadata": {},
   "outputs": [
    {
     "data": {
      "text/plain": [
       "id_siniestro                   0\n",
       "fecha_siniestro                0\n",
       "modo_desplazamiento_victima    0\n",
       "sexo_victima                   0\n",
       "edad_victima                   0\n",
       "año_victima                    0\n",
       "dia_victima                    0\n",
       "mes_victima                    0\n",
       "rango_edad                     0\n",
       "dtype: int64"
      ]
     },
     "execution_count": 48,
     "metadata": {},
     "output_type": "execute_result"
    }
   ],
   "source": [
    "df.isnull().sum() "
   ]
  },
  {
   "cell_type": "code",
   "execution_count": 49,
   "id": "7c1df993",
   "metadata": {},
   "outputs": [
    {
     "data": {
      "text/plain": [
       "id_siniestro                           object\n",
       "fecha_siniestro                datetime64[ns]\n",
       "modo_desplazamiento_victima            object\n",
       "sexo_victima                           object\n",
       "edad_victima                            int64\n",
       "año_victima                             int32\n",
       "dia_victima                            object\n",
       "mes_victima                            object\n",
       "rango_edad                             object\n",
       "dtype: object"
      ]
     },
     "execution_count": 49,
     "metadata": {},
     "output_type": "execute_result"
    }
   ],
   "source": [
    "df.dtypes"
   ]
  },
  {
   "cell_type": "markdown",
   "id": "6b20ce0a",
   "metadata": {},
   "source": [
    "Dataframe listo para exportar "
   ]
  },
  {
   "cell_type": "code",
   "execution_count": 50,
   "id": "8c3f7a7d",
   "metadata": {},
   "outputs": [],
   "source": [
    "df.to_csv(\"../datasets/processed/siniestros_viales_victimas_limpio.csv\")"
   ]
  }
 ],
 "metadata": {
  "kernelspec": {
   "display_name": "venv",
   "language": "python",
   "name": "python3"
  },
  "language_info": {
   "codemirror_mode": {
    "name": "ipython",
    "version": 3
   },
   "file_extension": ".py",
   "mimetype": "text/x-python",
   "name": "python",
   "nbconvert_exporter": "python",
   "pygments_lexer": "ipython3",
   "version": "3.12.6"
  }
 },
 "nbformat": 4,
 "nbformat_minor": 5
}
